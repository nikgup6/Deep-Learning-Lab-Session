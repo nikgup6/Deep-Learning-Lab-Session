{
  "nbformat": 4,
  "nbformat_minor": 0,
  "metadata": {
    "colab": {
      "provenance": []
    },
    "kernelspec": {
      "name": "python3",
      "display_name": "Python 3"
    },
    "language_info": {
      "name": "python"
    }
  },
  "cells": [
    {
      "cell_type": "markdown",
      "source": [
        "Importing Libraries"
      ],
      "metadata": {
        "id": "x6Gm0ULqlPq_"
      }
    },
    {
      "cell_type": "code",
      "source": [
        "import tensorflow as tf\n",
        "from tensorflow import keras\n",
        "from tensorflow.keras import layers, regularizers, callbacks\n",
        "import numpy as np\n",
        "import matplotlib.pyplot as plt"
      ],
      "metadata": {
        "id": "d5RPKZkolT47"
      },
      "execution_count": null,
      "outputs": []
    },
    {
      "cell_type": "markdown",
      "source": [
        "Load MNIST Dataset"
      ],
      "metadata": {
        "id": "6ikkbBG_lXCb"
      }
    },
    {
      "cell_type": "code",
      "source": [
        "# Load MNIST dataset\n",
        "(x_train, y_train), (x_test, y_test) = keras.datasets.mnist.load_data()"
      ],
      "metadata": {
        "id": "JRIiPQqzlZ2s"
      },
      "execution_count": null,
      "outputs": []
    },
    {
      "cell_type": "markdown",
      "source": [
        "Normalize the dataset"
      ],
      "metadata": {
        "id": "s7G6u8Wwld5N"
      }
    },
    {
      "cell_type": "code",
      "source": [
        "x_train, x_test = x_train / 255.0, x_test / 255.0"
      ],
      "metadata": {
        "id": "R67EhDs3lgXR"
      },
      "execution_count": null,
      "outputs": []
    },
    {
      "cell_type": "markdown",
      "source": [
        "Creating Baseline model"
      ],
      "metadata": {
        "id": "YyG8RhfPlkzX"
      }
    },
    {
      "cell_type": "code",
      "source": [
        "def create_baseline_model():\n",
        "    model = keras.Sequential([\n",
        "        layers.Flatten(input_shape=(28, 28)),\n",
        "        layers.Dense(128, activation='relu'),\n",
        "        layers.Dense(10, activation='softmax')\n",
        "    ])\n",
        "    model.compile(optimizer='adam', loss='sparse_categorical_crossentropy', metrics=['accuracy'])\n",
        "    return model"
      ],
      "metadata": {
        "id": "VJMHpd2llmZS"
      },
      "execution_count": null,
      "outputs": []
    },
    {
      "cell_type": "markdown",
      "source": [
        "Train baseline model"
      ],
      "metadata": {
        "id": "rmDh8Ze8lo4S"
      }
    },
    {
      "cell_type": "code",
      "source": [
        "baseline_model = create_baseline_model()\n",
        "baseline_history = baseline_model.fit(x_train, y_train, epochs=10, validation_data=(x_test, y_test), verbose=2)"
      ],
      "metadata": {
        "id": "bau7R4ovlq-b"
      },
      "execution_count": null,
      "outputs": []
    },
    {
      "cell_type": "code",
      "source": [
        "import tensorflow as tf\n",
        "from tensorflow import keras\n",
        "from tensorflow.keras import layers, regularizers\n",
        "import matplotlib.pyplot as plt\n",
        "import numpy as np\n",
        "\n",
        "# Load MNIST dataset\n",
        "(x_train, y_train), (x_test, y_test) = keras.datasets.mnist.load_data()\n",
        "x_train, x_test = x_train / 255.0, x_test / 255.0  # Normalize data\n",
        "\n",
        "# Baseline Model\n",
        "def build_baseline_model():\n",
        "    model = keras.Sequential([\n",
        "        layers.Flatten(input_shape=(28, 28)),\n",
        "        layers.Dense(128, activation='relu'),\n",
        "        layers.Dense(10, activation='softmax')\n",
        "    ])\n",
        "    model.compile(optimizer='adam', loss='sparse_categorical_crossentropy', metrics=['accuracy'])\n",
        "    return model\n",
        "\n",
        "# Model with 5 hidden layers, each having 500 nodes\n",
        "def build_deep_model():\n",
        "    model = keras.Sequential([\n",
        "        layers.Flatten(input_shape=(28, 28)),\n",
        "        layers.Dense(500, activation='relu'),\n",
        "        layers.Dense(500, activation='relu'),\n",
        "        layers.Dense(500, activation='relu'),\n",
        "        layers.Dense(500, activation='relu'),\n",
        "        layers.Dense(500, activation='relu'),\n",
        "        layers.Dense(10, activation='softmax')\n",
        "    ])\n",
        "    model.compile(optimizer='adam', loss='sparse_categorical_crossentropy', metrics=['accuracy'])\n",
        "    return model\n",
        "\n",
        "# Early Stopping Callback\n",
        "early_stopping = keras.callbacks.EarlyStopping(monitor='val_loss', patience=3, restore_best_weights=True)\n",
        "\n",
        "# Train and Evaluate Models\n",
        "def train_and_evaluate(model, model_name):\n",
        "    history = model.fit(x_train, y_train, validation_data=(x_test, y_test), epochs=20, batch_size=32, callbacks=[early_stopping])\n",
        "    return history\n",
        "\n",
        "# Train all models\n",
        "histories = {}\n",
        "models = {\n",
        "    'Baseline': build_baseline_model(),\n",
        "    'Deep Model': build_deep_model()\n",
        "}\n",
        "\n",
        "for name, model in models.items():\n",
        "    print(f\"Training {name} model...\")\n",
        "    histories[name] = train_and_evaluate(model, name)\n",
        "\n",
        "# Plot Results\n",
        "plt.figure(figsize=(10, 5))\n",
        "for name, history in histories.items():\n",
        "    plt.plot(history.history['val_loss'], label=name)\n",
        "plt.xlabel('Epochs')\n",
        "plt.ylabel('Validation Loss')\n",
        "plt.legend()\n",
        "plt.title('Validation Loss Comparison')\n",
        "plt.show()\n"
      ],
      "metadata": {
        "colab": {
          "base_uri": "https://localhost:8080/",
          "height": 1000
        },
        "id": "ml1JnYl9opdh",
        "outputId": "35708060-3a8c-41fe-89b5-3442aaeae23d"
      },
      "execution_count": null,
      "outputs": [
        {
          "output_type": "stream",
          "name": "stdout",
          "text": [
            "Training Baseline model...\n",
            "Epoch 1/20\n",
            "\u001b[1m1875/1875\u001b[0m \u001b[32m━━━━━━━━━━━━━━━━━━━━\u001b[0m\u001b[37m\u001b[0m \u001b[1m8s\u001b[0m 4ms/step - accuracy: 0.8833 - loss: 0.4246 - val_accuracy: 0.9597 - val_loss: 0.1284\n",
            "Epoch 2/20\n",
            "\u001b[1m1875/1875\u001b[0m \u001b[32m━━━━━━━━━━━━━━━━━━━━\u001b[0m\u001b[37m\u001b[0m \u001b[1m11s\u001b[0m 4ms/step - accuracy: 0.9631 - loss: 0.1237 - val_accuracy: 0.9718 - val_loss: 0.0916\n",
            "Epoch 3/20\n",
            "\u001b[1m1875/1875\u001b[0m \u001b[32m━━━━━━━━━━━━━━━━━━━━\u001b[0m\u001b[37m\u001b[0m \u001b[1m11s\u001b[0m 5ms/step - accuracy: 0.9755 - loss: 0.0823 - val_accuracy: 0.9734 - val_loss: 0.0873\n",
            "Epoch 4/20\n",
            "\u001b[1m1875/1875\u001b[0m \u001b[32m━━━━━━━━━━━━━━━━━━━━\u001b[0m\u001b[37m\u001b[0m \u001b[1m8s\u001b[0m 4ms/step - accuracy: 0.9819 - loss: 0.0589 - val_accuracy: 0.9767 - val_loss: 0.0757\n",
            "Epoch 5/20\n",
            "\u001b[1m1875/1875\u001b[0m \u001b[32m━━━━━━━━━━━━━━━━━━━━\u001b[0m\u001b[37m\u001b[0m \u001b[1m8s\u001b[0m 4ms/step - accuracy: 0.9860 - loss: 0.0460 - val_accuracy: 0.9772 - val_loss: 0.0782\n",
            "Epoch 6/20\n",
            "\u001b[1m1875/1875\u001b[0m \u001b[32m━━━━━━━━━━━━━━━━━━━━\u001b[0m\u001b[37m\u001b[0m \u001b[1m11s\u001b[0m 5ms/step - accuracy: 0.9891 - loss: 0.0350 - val_accuracy: 0.9760 - val_loss: 0.0806\n",
            "Epoch 7/20\n",
            "\u001b[1m1875/1875\u001b[0m \u001b[32m━━━━━━━━━━━━━━━━━━━━\u001b[0m\u001b[37m\u001b[0m \u001b[1m8s\u001b[0m 4ms/step - accuracy: 0.9917 - loss: 0.0278 - val_accuracy: 0.9779 - val_loss: 0.0757\n",
            "Epoch 8/20\n",
            "\u001b[1m1875/1875\u001b[0m \u001b[32m━━━━━━━━━━━━━━━━━━━━\u001b[0m\u001b[37m\u001b[0m \u001b[1m8s\u001b[0m 4ms/step - accuracy: 0.9930 - loss: 0.0238 - val_accuracy: 0.9808 - val_loss: 0.0726\n",
            "Epoch 9/20\n",
            "\u001b[1m1875/1875\u001b[0m \u001b[32m━━━━━━━━━━━━━━━━━━━━\u001b[0m\u001b[37m\u001b[0m \u001b[1m10s\u001b[0m 4ms/step - accuracy: 0.9948 - loss: 0.0190 - val_accuracy: 0.9787 - val_loss: 0.0750\n",
            "Epoch 10/20\n",
            "\u001b[1m1875/1875\u001b[0m \u001b[32m━━━━━━━━━━━━━━━━━━━━\u001b[0m\u001b[37m\u001b[0m \u001b[1m8s\u001b[0m 3ms/step - accuracy: 0.9948 - loss: 0.0170 - val_accuracy: 0.9781 - val_loss: 0.0834\n",
            "Epoch 11/20\n",
            "\u001b[1m1875/1875\u001b[0m \u001b[32m━━━━━━━━━━━━━━━━━━━━\u001b[0m\u001b[37m\u001b[0m \u001b[1m8s\u001b[0m 4ms/step - accuracy: 0.9966 - loss: 0.0121 - val_accuracy: 0.9787 - val_loss: 0.0884\n",
            "Training L1 Regularization model...\n",
            "Epoch 1/20\n",
            "\u001b[1m1875/1875\u001b[0m \u001b[32m━━━━━━━━━━━━━━━━━━━━\u001b[0m\u001b[37m\u001b[0m \u001b[1m9s\u001b[0m 4ms/step - accuracy: 0.7685 - loss: 4.9504 - val_accuracy: 0.8432 - val_loss: 1.2263\n",
            "Epoch 2/20\n",
            "\u001b[1m1875/1875\u001b[0m \u001b[32m━━━━━━━━━━━━━━━━━━━━\u001b[0m\u001b[37m\u001b[0m \u001b[1m9s\u001b[0m 4ms/step - accuracy: 0.8494 - loss: 1.1657 - val_accuracy: 0.8657 - val_loss: 1.0721\n",
            "Epoch 3/20\n",
            "\u001b[1m1875/1875\u001b[0m \u001b[32m━━━━━━━━━━━━━━━━━━━━\u001b[0m\u001b[37m\u001b[0m \u001b[1m9s\u001b[0m 5ms/step - accuracy: 0.8587 - loss: 1.0588 - val_accuracy: 0.8613 - val_loss: 1.0160\n",
            "Training L2 Regularization model...\n",
            "Epoch 1/20\n",
            "\u001b[1m1875/1875\u001b[0m \u001b[32m━━━━━━━━━━━━━━━━━━━━\u001b[0m\u001b[37m\u001b[0m \u001b[1m9s\u001b[0m 4ms/step - accuracy: 0.8583 - loss: 0.9742 - val_accuracy: 0.9190 - val_loss: 0.4347\n",
            "Epoch 2/20\n",
            "\u001b[1m1875/1875\u001b[0m \u001b[32m━━━━━━━━━━━━━━━━━━━━\u001b[0m\u001b[37m\u001b[0m \u001b[1m8s\u001b[0m 4ms/step - accuracy: 0.9277 - loss: 0.4058 - val_accuracy: 0.9428 - val_loss: 0.3506\n",
            "Epoch 3/20\n",
            "\u001b[1m1875/1875\u001b[0m \u001b[32m━━━━━━━━━━━━━━━━━━━━\u001b[0m\u001b[37m\u001b[0m \u001b[1m12s\u001b[0m 5ms/step - accuracy: 0.9382 - loss: 0.3570 - val_accuracy: 0.9504 - val_loss: 0.3207\n",
            "Training L1 + L2 Regularization model...\n",
            "Epoch 1/20\n",
            "\u001b[1m1875/1875\u001b[0m \u001b[32m━━━━━━━━━━━━━━━━━━━━\u001b[0m\u001b[37m\u001b[0m \u001b[1m10s\u001b[0m 5ms/step - accuracy: 0.7588 - loss: 5.1512 - val_accuracy: 0.8476 - val_loss: 1.2133\n",
            "Epoch 2/20\n",
            "\u001b[1m1875/1875\u001b[0m \u001b[32m━━━━━━━━━━━━━━━━━━━━\u001b[0m\u001b[37m\u001b[0m \u001b[1m8s\u001b[0m 4ms/step - accuracy: 0.8448 - loss: 1.2032 - val_accuracy: 0.8608 - val_loss: 1.1067\n",
            "Epoch 3/20\n",
            "\u001b[1m1875/1875\u001b[0m \u001b[32m━━━━━━━━━━━━━━━━━━━━\u001b[0m\u001b[37m\u001b[0m \u001b[1m9s\u001b[0m 5ms/step - accuracy: 0.8589 - loss: 1.0908 - val_accuracy: 0.8719 - val_loss: 1.0219\n",
            "Training Dropout (0.2) model...\n",
            "Epoch 1/20\n",
            "\u001b[1m1875/1875\u001b[0m \u001b[32m━━━━━━━━━━━━━━━━━━━━\u001b[0m\u001b[37m\u001b[0m \u001b[1m10s\u001b[0m 5ms/step - accuracy: 0.8562 - loss: 0.4922 - val_accuracy: 0.9608 - val_loss: 0.1371\n",
            "Epoch 2/20\n",
            "\u001b[1m1875/1875\u001b[0m \u001b[32m━━━━━━━━━━━━━━━━━━━━\u001b[0m\u001b[37m\u001b[0m \u001b[1m8s\u001b[0m 4ms/step - accuracy: 0.9550 - loss: 0.1516 - val_accuracy: 0.9686 - val_loss: 0.1038\n",
            "Epoch 3/20\n",
            "\u001b[1m1875/1875\u001b[0m \u001b[32m━━━━━━━━━━━━━━━━━━━━\u001b[0m\u001b[37m\u001b[0m \u001b[1m9s\u001b[0m 5ms/step - accuracy: 0.9668 - loss: 0.1085 - val_accuracy: 0.9725 - val_loss: 0.0908\n",
            "Training Dropout (0.5) model...\n",
            "Epoch 1/20\n",
            "\u001b[1m1875/1875\u001b[0m \u001b[32m━━━━━━━━━━━━━━━━━━━━\u001b[0m\u001b[37m\u001b[0m \u001b[1m10s\u001b[0m 5ms/step - accuracy: 0.8195 - loss: 0.5957 - val_accuracy: 0.9495 - val_loss: 0.1640\n",
            "Epoch 2/20\n",
            "\u001b[1m1875/1875\u001b[0m \u001b[32m━━━━━━━━━━━━━━━━━━━━\u001b[0m\u001b[37m\u001b[0m \u001b[1m7s\u001b[0m 3ms/step - accuracy: 0.9293 - loss: 0.2319 - val_accuracy: 0.9596 - val_loss: 0.1278\n",
            "Epoch 3/20\n",
            "\u001b[1m1875/1875\u001b[0m \u001b[32m━━━━━━━━━━━━━━━━━━━━\u001b[0m\u001b[37m\u001b[0m \u001b[1m11s\u001b[0m 4ms/step - accuracy: 0.9446 - loss: 0.1864 - val_accuracy: 0.9676 - val_loss: 0.1076\n"
          ]
        },
        {
          "output_type": "display_data",
          "data": {
            "text/plain": [
              "<Figure size 1000x500 with 1 Axes>"
            ],
            "image/png": "[encoded data removed]"
          },
          "metadata": {}
        }
      ]
    },
    {
      "cell_type": "code",
      "source": [
        "import tensorflow as tf\n",
        "from tensorflow import keras\n",
        "from tensorflow.keras import layers, regularizers\n",
        "import matplotlib.pyplot as plt\n",
        "import numpy as np\n",
        "\n",
        "# Load MNIST dataset\n",
        "(x_train, y_train), (x_test, y_test) = keras.datasets.mnist.load_data()\n",
        "\n",
        "# Normalize data\n",
        "x_train, x_test = x_train / 255.0, x_test / 255.0\n",
        "\n",
        "# Data Augmentation\n",
        "datagen = keras.preprocessing.image.ImageDataGenerator(\n",
        "    rotation_range=10,\n",
        "    width_shift_range=0.1,\n",
        "    height_shift_range=0.1,\n",
        "    zoom_range=0.1\n",
        ")\n",
        "datagen.fit(x_train.reshape(-1, 28, 28, 1))  # Reshaping for augmentation\n",
        "\n",
        "# Function to build models\n",
        "def build_model(regularizer=None, dropout_rate=None):\n",
        "    model = keras.Sequential([\n",
        "        layers.Flatten(input_shape=(28, 28)),\n",
        "        layers.Dense(500, activation='relu', kernel_regularizer=regularizer),\n",
        "        layers.Dense(500, activation='relu', kernel_regularizer=regularizer),\n",
        "        layers.Dense(500, activation='relu', kernel_regularizer=regularizer),\n",
        "        layers.Dense(500, activation='relu', kernel_regularizer=regularizer),\n",
        "        layers.Dense(500, activation='relu', kernel_regularizer=regularizer),\n",
        "    ])\n",
        "\n",
        "    # Apply Dropout if specified\n",
        "    if dropout_rate:\n",
        "        model.add(layers.Dropout(dropout_rate))\n",
        "\n",
        "    model.add(layers.Dense(10, activation='softmax'))\n",
        "\n",
        "    model.compile(optimizer='adam', loss='sparse_categorical_crossentropy', metrics=['accuracy'])\n",
        "    return model\n",
        "\n",
        "# Early Stopping Callback\n",
        "early_stopping = keras.callbacks.EarlyStopping(monitor='val_loss', patience=3, restore_best_weights=True)\n",
        "\n",
        "# Train and Evaluate Models\n",
        "def train_and_evaluate(model, model_name, augment=False):\n",
        "    print(f\"Training {model_name} model...\")\n",
        "    if augment:\n",
        "        history = model.fit(datagen.flow(x_train.reshape(-1, 28, 28, 1), y_train, batch_size=32),\n",
        "                            validation_data=(x_test, y_test), epochs=20, callbacks=[early_stopping])\n",
        "    else:\n",
        "        history = model.fit(x_train, y_train, validation_data=(x_test, y_test),\n",
        "                            epochs=20, batch_size=32, callbacks=[early_stopping])\n",
        "    return history\n",
        "\n",
        "# Define models with different regularization techniques\n",
        "models = {\n",
        "    'Baseline': build_model(),\n",
        "    'L1 Regularization': build_model(regularizer=regularizers.l1(0.01)),\n",
        "    'L2 Regularization': build_model(regularizer=regularizers.l2(0.01)),\n",
        "    'L1 + L2 Regularization': build_model(regularizer=regularizers.l1_l2(l1=0.01, l2=0.01)),\n",
        "    'Dropout (0.2)': build_model(dropout_rate=0.2),\n",
        "    'Dropout (0.5)': build_model(dropout_rate=0.5),\n",
        "    'Data Augmentation': build_model(),\n",
        "    'Combined (L2 + Dropout + Augmentation)': build_model(regularizer=regularizers.l2(0.01), dropout_rate=0.2),\n",
        "}\n",
        "\n",
        "# Train all models and store histories\n",
        "histories = {}\n",
        "for name, model in models.items():\n",
        "    augment = name == 'Data Augmentation' or name == 'Combined (L2 + Dropout + Augmentation)'\n",
        "    histories[name] = train_and_evaluate(model, name, augment=augment)\n",
        "\n",
        "# Plot Results\n",
        "plt.figure(figsize=(10, 5))\n",
        "for name, history in histories.items():\n",
        "    plt.plot(history.history['val_loss'], label=name)\n",
        "\n",
        "plt.xlabel('Epochs')\n",
        "plt.ylabel('Validation Loss')\n",
        "plt.legend()\n",
        "plt.title('Validation Loss Comparison')\n",
        "plt.show()\n"
      ],
      "metadata": {
        "colab": {
          "base_uri": "https://localhost:8080/"
        },
        "id": "t7UDbcVAwQkK",
        "outputId": "6976162e-0ce5-4645-a1d4-14bcaeb9d175"
      },
      "execution_count": null,
      "outputs": [
        {
          "output_type": "stream",
          "name": "stdout",
          "text": [
            "Training Baseline model...\n",
            "Epoch 1/20\n",
            "\u001b[1m1875/1875\u001b[0m \u001b[32m━━━━━━━━━━━━━━━━━━━━\u001b[0m\u001b[37m\u001b[0m \u001b[1m50s\u001b[0m 25ms/step - accuracy: 0.8833 - loss: 0.3810 - val_accuracy: 0.9559 - val_loss: 0.1538\n",
            "Epoch 2/20\n",
            "\u001b[1m1875/1875\u001b[0m \u001b[32m━━━━━━━━━━━━━━━━━━━━\u001b[0m\u001b[37m\u001b[0m \u001b[1m80s\u001b[0m 24ms/step - accuracy: 0.9674 - loss: 0.1183 - val_accuracy: 0.9664 - val_loss: 0.1206\n",
            "Epoch 3/20\n",
            "\u001b[1m1875/1875\u001b[0m \u001b[32m━━━━━━━━━━━━━━━━━━━━\u001b[0m\u001b[37m\u001b[0m \u001b[1m81s\u001b[0m 24ms/step - accuracy: 0.9760 - loss: 0.0881 - val_accuracy: 0.9727 - val_loss: 0.0969\n",
            "Epoch 4/20\n",
            "\u001b[1m1875/1875\u001b[0m \u001b[32m━━━━━━━━━━━━━━━━━━━━\u001b[0m\u001b[37m\u001b[0m \u001b[1m82s\u001b[0m 24ms/step - accuracy: 0.9804 - loss: 0.0685 - val_accuracy: 0.9779 - val_loss: 0.0959\n",
            "Epoch 5/20\n",
            "\u001b[1m1875/1875\u001b[0m \u001b[32m━━━━━━━━━━━━━━━━━━━━\u001b[0m\u001b[37m\u001b[0m \u001b[1m83s\u001b[0m 24ms/step - accuracy: 0.9849 - loss: 0.0546 - val_accuracy: 0.9761 - val_loss: 0.1054\n",
            "Epoch 6/20\n",
            "\u001b[1m1875/1875\u001b[0m \u001b[32m━━━━━━━━━━━━━━━━━━━━\u001b[0m\u001b[37m\u001b[0m \u001b[1m44s\u001b[0m 24ms/step - accuracy: 0.9860 - loss: 0.0496 - val_accuracy: 0.9736 - val_loss: 0.1157\n",
            "Epoch 7/20\n",
            "\u001b[1m1875/1875\u001b[0m \u001b[32m━━━━━━━━━━━━━━━━━━━━\u001b[0m\u001b[37m\u001b[0m \u001b[1m83s\u001b[0m 24ms/step - accuracy: 0.9877 - loss: 0.0433 - val_accuracy: 0.9797 - val_loss: 0.0827\n",
            "Epoch 8/20\n",
            "\u001b[1m1875/1875\u001b[0m \u001b[32m━━━━━━━━━━━━━━━━━━━━\u001b[0m\u001b[37m\u001b[0m \u001b[1m44s\u001b[0m 23ms/step - accuracy: 0.9887 - loss: 0.0406 - val_accuracy: 0.9735 - val_loss: 0.1406\n",
            "Epoch 9/20\n"
          ]
        }
      ]
    }
  ]
}